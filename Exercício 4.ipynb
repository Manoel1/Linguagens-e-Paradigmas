{
 "cells": [
  {
   "cell_type": "markdown",
   "metadata": {},
   "source": [
    "1 Menor de dois pares: Escreva uma função que retorne o menor de dois números dados se ambos os números forem pares, mas retorna o maior se um dos dois for ímpar. Exemplo:\n",
    "menor_de_dois_pares(2,4) --> 2\n",
    "menor_de_dois_pares (2,5) --> 5"
   ]
  },
  {
   "cell_type": "code",
   "execution_count": 53,
   "metadata": {
    "scrolled": true
   },
   "outputs": [
    {
     "name": "stdout",
     "output_type": "stream",
     "text": [
      "2\n",
      "5\n"
     ]
    }
   ],
   "source": [
    "def menor_de_dois(num1,num2):\n",
    "    if num1 % 2 == 0 and num2 % 2 == 0:\n",
    "        if num1 < num2:\n",
    "            return num1\n",
    "        else:\n",
    "            return num2\n",
    "    else:\n",
    "        if num1 > num2:\n",
    "            return num1\n",
    "        else:\n",
    "            return num2\n",
    "        \n",
    "print(menor_de_dois(2,4))\n",
    "print(menor_de_dois(2,5)) "
   ]
  },
  {
   "cell_type": "markdown",
   "metadata": {},
   "source": [
    "2 Mesma letra: Escreva uma função que receba uma string com duas palavras e retorne True se ambas palavras começarem com a mesma letra. Exemplo:\n",
    "mesma_letra('Cão covarde') -> True\n",
    "mesma_letra('Vira Lata') -> False"
   ]
  },
  {
   "cell_type": "code",
   "execution_count": 54,
   "metadata": {},
   "outputs": [
    {
     "name": "stdout",
     "output_type": "stream",
     "text": [
      "True\n",
      "False\n"
     ]
    }
   ],
   "source": [
    "def mesma_letra(arg):\n",
    "    palavras = arg.split(\" \")\n",
    "    if palavras[0][0] == palavras[1][0]:\n",
    "        return True\n",
    "    else:\n",
    "        return False\n",
    "    \n",
    "print(mesma_letra('Cão Covarde'))\n",
    "print(mesma_letra('Vira lata'))"
   ]
  },
  {
   "cell_type": "markdown",
   "metadata": {},
   "source": [
    "3 Mestre Yoda: Dada uma sentença, a função deve retornar a sentença com as palavras na ordem reversa. Exemplo:\n",
    "mestre_yoda('Eu estou em casa') --> 'casa em estou Eu'\n",
    "mestre_yoda('Estamos prontos') --> 'prontos Estamos'"
   ]
  },
  {
   "cell_type": "code",
   "execution_count": null,
   "metadata": {},
   "outputs": [
    {
     "name": "stdout",
     "output_type": "stream",
     "text": [
      "casa em estou Eu "
     ]
    }
   ],
   "source": [
    "#Oque o exercicio pede\n",
    "x = ('Eu estou em casa')\n",
    "def mestre_yoda(arg):\n",
    "    for i in reversed(arg.split(' ')):\n",
    "        print(i, end = \" \")\n",
    "        \n",
    "mestre_yoda(x)\n",
    "\n",
    "\n",
    "\n",
    "\n",
    "#Usuario Digitando um palavra \n",
    "x = str(input(\"Você agora é o Mestre Yoda: Digite Algo: \"))\n",
    "def mestre_yoda(arg):\n",
    "    for i in reversed(arg.split(' ')):\n",
    "        print(i, end = \" \")\n",
    "        \n",
    "mestre_yoda(x)"
   ]
  },
  {
   "cell_type": "markdown",
   "metadata": {},
   "source": [
    "4 Tem 33: Faça uma função que retorne True se, dada uma lista de inteiros, houver em alguma posição da lista um 3 do lado de outro 3. Exemplo:\n",
    "tem_33([1,3,3]) --> True\n",
    "tem_33([1,3,1,3]) --> False\n",
    "tem_33([3,1,3]) --> False"
   ]
  },
  {
   "cell_type": "code",
   "execution_count": 60,
   "metadata": {},
   "outputs": [
    {
     "name": "stdout",
     "output_type": "stream",
     "text": [
      "tem 33\n",
      "nao tem 333\n",
      "nao tem 333\n"
     ]
    }
   ],
   "source": [
    "def tem_33(lista):\n",
    "    estado = 'nada'\n",
    "    for n in lista:\n",
    "        if estado == 'nada' and n == 3:\n",
    "            estado = '3'\n",
    "        elif estado == '3' and n ==3:\n",
    "            print(\"tem 33\")\n",
    "            break\n",
    "            print('sim eles esta aqui')\n",
    "        elif estado =='3' and n !=3:\n",
    "            estado ='nada'\n",
    "    else:\n",
    "        print('nao tem 333')\n",
    "tem_33([1,3,3])\n",
    "tem_33([1,3,1,3])\n",
    "tem_33([3,1,3]) "
   ]
  },
  {
   "cell_type": "markdown",
   "metadata": {},
   "source": [
    "5 Blackjack: Faça uma função que receba 3 inteiros entre 1 e 11. Se a soma deles for menor que 21, retorne o valor da soma. Se for mair do que 21 e houver um 11,\n",
    "   \n",
    "subtraia 10 da soma antes de apresentar o resultado. Se o valor da soma passar de 21, retorne ‘ESTOUROU’. Exemplo:\n",
    "blackjack(5,6,7) --> 18\n",
    "blackjack(9,9,9) --> 'ESTOUROU'\n",
    "blackjack(9,9,11) --> 19"
   ]
  },
  {
   "cell_type": "code",
   "execution_count": 57,
   "metadata": {},
   "outputs": [
    {
     "name": "stdout",
     "output_type": "stream",
     "text": [
      "18\n",
      "ESTOROU\n",
      "19\n"
     ]
    }
   ],
   "source": [
    "def blackjack(arg1, arg2, arg3):\n",
    "    soma = arg1 + arg2 + arg3\n",
    "    if soma <= 21:\n",
    "        return soma\n",
    "    else:\n",
    "        if arg1 == 11 or arg2 == 11 or arg3 == 11:\n",
    "            soma = soma - 10\n",
    "        if soma > 21:\n",
    "            return 'ESTOROU'\n",
    "        else:\n",
    "            return soma\n",
    "        \n",
    "print(blackjack(5,6,7))\n",
    "print(blackjack(9,9,9))\n",
    "print(blackjack(9,9,11))"
   ]
  },
  {
   "cell_type": "markdown",
   "metadata": {},
   "source": [
    "6 Espião: Escreva uma função que receba uma lista de inteiros e retorne True se contém um 007 em ordem, mesmo que não contínuo. Exemplo:\n",
    "espiao([1,2,4,0,0,7,5]) --> True\n",
    "espiao([1,0,2,4,0,5,7]) --> True\n",
    "espiao([1,7,2,4,0,5,0]) --> False"
   ]
  },
  {
   "cell_type": "code",
   "execution_count": 58,
   "metadata": {},
   "outputs": [
    {
     "name": "stdout",
     "output_type": "stream",
     "text": [
      "sim ele esta aqui\n",
      "sim ele esta aqui\n",
      "Nao, nao tem 007\n"
     ]
    }
   ],
   "source": [
    "def acha_espiao(lista):\n",
    "    estado = 'nada'\n",
    "    for n in lista:\n",
    "        if n == 0 and estado == 'nada':\n",
    "            estado = '0'\n",
    "        elif n == 0 and estado =='0':\n",
    "            estado ='00'\n",
    "        elif n == 7 and estado =='00':\n",
    "            print('sim ele esta aqui')\n",
    "            break\n",
    "    else:\n",
    "        print('Nao, nao tem 007')\n",
    "\n",
    "acha_espiao([1,2,4,0,0,7,5])\n",
    "acha_espiao([1,0,2,4,0,5,7])\n",
    "acha_espiao([1,7,2,4,0,5,0]) "
   ]
  }
 ],
 "metadata": {
  "kernelspec": {
   "display_name": "Python 3",
   "language": "python",
   "name": "python3"
  },
  "language_info": {
   "codemirror_mode": {
    "name": "ipython",
    "version": 3
   },
   "file_extension": ".py",
   "mimetype": "text/x-python",
   "name": "python",
   "nbconvert_exporter": "python",
   "pygments_lexer": "ipython3",
   "version": "3.7.1"
  }
 },
 "nbformat": 4,
 "nbformat_minor": 2
}
