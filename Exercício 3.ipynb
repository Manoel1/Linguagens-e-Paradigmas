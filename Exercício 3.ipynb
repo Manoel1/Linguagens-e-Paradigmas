{
 "cells": [
  {
   "cell_type": "markdown",
   "metadata": {},
   "source": [
    "1. Faça um Programa que peça dois números e imprima o maior deles."
   ]
  },
  {
   "cell_type": "code",
   "execution_count": 18,
   "metadata": {},
   "outputs": [
    {
     "name": "stdout",
     "output_type": "stream",
     "text": [
      "Digite o primero numero: 2\n",
      "Digite o segundo numero: 4\n",
      "4 è maior que 2\n"
     ]
    }
   ],
   "source": [
    "n1 = input('Digite o primero numero: ')\n",
    "n2 = input('Digite o segundo numero: ')\n",
    "\n",
    "if n1 > n2:\n",
    "    print(n1,'è Maior que',n2)\n",
    "else:\n",
    "    print(n2,'è maior que',n1)\n",
    "\n"
   ]
  },
  {
   "cell_type": "markdown",
   "metadata": {},
   "source": [
    "2. Faça um Programa que verifique se uma letra digitada é vogal ou consoante."
   ]
  },
  {
   "cell_type": "code",
   "execution_count": 19,
   "metadata": {
    "scrolled": true
   },
   "outputs": [
    {
     "name": "stdout",
     "output_type": "stream",
     "text": [
      "Digite uma letra: d\n",
      "d È consoante\n"
     ]
    }
   ],
   "source": [
    "letra = str(input('Digite uma letra: ').lower())\n",
    "if letra == 'a' or letra == 'e' or letra == 'i' or letra =='o' or letra =='u':\n",
    "    print('A letra é uma vogal')\n",
    "else:\n",
    "    print(letra,'È consoante')"
   ]
  },
  {
   "cell_type": "markdown",
   "metadata": {},
   "source": [
    "3. Faça um programa para a leitura de duas notas parciais de um aluno. O programa\n",
    "deve calcular a média alcançada por aluno e apresentar:\n",
    "- A mensagem \"Aprovado\", se a média alcançada for maior ou igual a sete;\n",
    "- A mensagem \"Reprovado\", se a média for menor do que sete;\n",
    "- A mensagem \"Aprovado com Distinção\", se a média for igual a dez"
   ]
  },
  {
   "cell_type": "code",
   "execution_count": 20,
   "metadata": {},
   "outputs": [
    {
     "name": "stdout",
     "output_type": "stream",
     "text": [
      "Digite a primera nota: 3\n",
      "Digite a segunda nota: 6\n",
      "Reprovado\n"
     ]
    }
   ],
   "source": [
    "n1 = int(input('Digite a primera nota: '))\n",
    "n2 = int(input('Digite a segunda nota: '))\n",
    "\n",
    "media = (n1+n2) /2\n",
    "if media >= 7 and media < 10:     \n",
    "    print ('Aprovado!!')\n",
    "elif media >= 10:\n",
    "    print ('aprovado com Distinção!')   \n",
    "else:\n",
    "    print ('Reprovado')\n",
    "\n",
    "\n"
   ]
  },
  {
   "cell_type": "markdown",
   "metadata": {},
   "source": [
    "4. Faça um Programa que leia três números e mostre-os em ordem decrescente."
   ]
  },
  {
   "cell_type": "code",
   "execution_count": 23,
   "metadata": {},
   "outputs": [
    {
     "name": "stdout",
     "output_type": "stream",
     "text": [
      "Informe o primeiro numero: 30\n",
      "Informe o segundo numero: 20\n",
      "Informe o terceiro numero: 80\n",
      "v1,v2,v3 vale respectivamente 30 20 80\n",
      "Após a ordenação\n",
      "v1,v2,v3 vale respectivamente 80 30 20\n",
      "Em ordem decrescente ficam 20 30 80\n"
     ]
    }
   ],
   "source": [
    "def maior( um, outro):\n",
    "  return um if um > outro else outro\n",
    "\n",
    "def menor(um , outro):\n",
    "  return um if um < outro else outro\n",
    "  \n",
    "v1 = int(input(\"Informe o primeiro numero: \"))\n",
    "v2 = int(input(\"Informe o segundo numero: \"))\n",
    "v3 = int(input(\"Informe o terceiro numero: \"))\n",
    "print(\"v1,v2,v3 vale respectivamente\",v1,v2,v3)\n",
    "w1,w2,w3 = v1,v2,v3\n",
    "v1 = maior( w1, maior(w2,w3))\n",
    "v2 = menor( menor( maior(w2,w3), maior(w2,w1)), menor(maior(w1,w3),maior(w1,w2)));\n",
    "v3 = menor( w1 , menor(w2,w3))\n",
    "print(\"Após a ordenação\")\n",
    "print(\"v1,v2,v3 vale respectivamente\",v1,v2,v3)\n",
    "print(\"Em ordem decrescente ficam\",v3,v2,v1)"
   ]
  },
  {
   "cell_type": "markdown",
   "metadata": {},
   "source": [
    "5.As Organizações Tabajara resolveram dar um aumento de salário aos seus\n",
    "colaboradores e lhe contrataram para desenvolver o programa que calculará os\n",
    "reajustes.\n",
    "Faça um programa que recebe o salário de um colaborador e o reajuste segundo o\n",
    "seguinte critério, baseado no salário atual:\n",
    "- salários até R$ 280,00 (incluindo) : aumento de 20%\n",
    "- salários entre R$ 280,00 e R$ 700,00 : aumento de 15%\n",
    "- salários entre R$ 700,00 e R$ 1500,00 : aumento de 10%\n",
    "- salários de R$ 1500,00 em diante : aumento de 5% Após o aumento ser realizado,\n",
    "informe na tela:\n",
    "- o salário antes do reajuste;\n",
    "- o percentual de aumento aplicado;\n",
    "- o valor do aumento;\n",
    "- o novo salário, após o aumento.\n"
   ]
  },
  {
   "cell_type": "code",
   "execution_count": 24,
   "metadata": {},
   "outputs": [
    {
     "name": "stdout",
     "output_type": "stream",
     "text": [
      "Digite o salário: 250\n",
      "Salario Antes do Reajuste 250.0\n",
      "Seu Salario Aumentou 20%\n",
      "Seu Salario Auementou 50.0\n",
      "Seu Salario Depois do Aumento 300.0\n"
     ]
    }
   ],
   "source": [
    "salario = float(input('Digite o salário: '))\n",
    "\n",
    "if salario <= 280:\n",
    "    aum = (20 /100) * salario\n",
    "    result = salario + aum\n",
    "    print('Salario Antes do Reajuste', salario)\n",
    "    print('Seu Salario Aumentou 20%')\n",
    "    print('Seu Salario Auementou', aum)\n",
    "    print('Seu Salario Depois do Aumento', result)\n",
    "    \n",
    "elif salario >280 and salario <700:\n",
    "    aum =(15/100) * salario\n",
    "    result =salario + aum\n",
    "    print('Salario Antes do Reajuste', salario)\n",
    "    print('Seu Salario Aumentou 15%')\n",
    "    print('Seu Salario Auementou', aum)\n",
    "    print('Seu Salario Depois do Aumento', result)\n",
    "\n",
    "elif salario >= 700 and salario <1500:\n",
    "    aum = (10/100) * salario\n",
    "    result = salario + aum\n",
    "    print('Salario Antes do Reajuste', salario)\n",
    "    print('Seu Salario Aumentou 10%')\n",
    "    print('Seu Salario Auementou', aum)\n",
    "    print('Seu Salario Depois do Aumento', result)\n",
    "    \n",
    "elif salario >1500:\n",
    "    aum = (5/100) * salario\n",
    "    result = aum + salario\n",
    "    print('Salario Antes do Reajuste', salario)\n",
    "    print('Seu Salario Aumentou 5%')\n",
    "    print('Seu Salario Auementou', aum)\n",
    "    print('Seu Salario Depois do Aumento', result)"
   ]
  },
  {
   "cell_type": "markdown",
   "metadata": {},
   "source": [
    "6. Faça um Programa que leia um número e exiba o dia correspondente da semana.\n",
    "(1-Domingo, 2- Segunda, etc.), se digitar outro valor deve aparecer valor inválido."
   ]
  },
  {
   "cell_type": "code",
   "execution_count": 25,
   "metadata": {},
   "outputs": [
    {
     "name": "stdout",
     "output_type": "stream",
     "text": [
      "Digite um numero: 5\n",
      "Quinta - Feira\n"
     ]
    }
   ],
   "source": [
    "dia = int(input('Digite um numero: '))\n",
    "\n",
    "if dia == 1:\n",
    "    print('Domingo')\n",
    "elif dia == 2:\n",
    "    print('Segunda - Feira')\n",
    "elif dia == 3:\n",
    "    print('Terça - Feira')\n",
    "elif dia == 4:\n",
    "    print('Quarta - Feira')\n",
    "elif dia == 5:\n",
    "    print('Quinta - Feira')\n",
    "elif dia == 6:\n",
    "    print('Sexta - Feira')\n",
    "elif dia == 7:\n",
    "    print('Sabado - Feira')\n",
    "elif dia > 7:\n",
    "    print('Valor Invalido')\n",
    "\n"
   ]
  },
  {
   "cell_type": "markdown",
   "metadata": {},
   "source": [
    "7. Faça um programa que lê as duas notas parciais obtidas por um aluno numa\n",
    "disciplina ao longo de um semestre, e calcule a sua média. A atribuição de conceitos\n",
    "obedece à tabela abaixo:\n",
    "\n",
    "Média de Aproveitamento Conceito\n",
    " Entre 9.0 e 10.0 A\n",
    " Entre 7.5 e 9.0 B\n",
    " Entre 6.0 e 7.5 C\n",
    " Entre 4.0 e 6.0 D\n",
    " Entre 4.0 e zero E\n",
    "\n",
    "O algoritmo deve mostrar na tela as notas, a média, o conceito correspondente e a\n",
    "mensagem “APROVADO” se o conceito for A, B ou C ou “REPROVADO” se o conceito\n",
    "for D ou E."
   ]
  },
  {
   "cell_type": "code",
   "execution_count": 27,
   "metadata": {},
   "outputs": [
    {
     "name": "stdout",
     "output_type": "stream",
     "text": [
      "Digite a Primeira Nota: 8\n",
      "Digite a Segunda Nota: 7\n",
      "Sua Primeira nota Foi 8.0\n",
      "Sua Segunda nota Foi 7.0\n",
      "Ficou com uma Média 7.5\n",
      "B\n",
      "Você foi Aprovado!\n"
     ]
    }
   ],
   "source": [
    "n1 = float(input('Digite a Primeira Nota: '))\n",
    "n2 = float(input('Digite a Segunda Nota: '))\n",
    "media = (n1+n2) /2\n",
    "\n",
    "if media >= 9.0 and media < 10.0:\n",
    "    print('Sua Primeira nota Foi', n1)\n",
    "    print('Sua Segunda nota Foi', n2)\n",
    "    print('Ficou com uma Média', media)\n",
    "    print ('Voce ficou com um: A')\n",
    "    print('Você foi Aprovado!')\n",
    "elif media >= 7.5 and media <=9.0:\n",
    "    print('Sua Primeira nota Foi', n1)\n",
    "    print('Sua Segunda nota Foi', n2)\n",
    "    print('Ficou com uma Média', media)\n",
    "    print ('B')  \n",
    "    print('Você foi Aprovado!')\n",
    "elif media >= 6.0 and media <=7.5:\n",
    "    print('Sua Primeira nota Foi', n1)\n",
    "    print('Sua Segunda nota Foi', n2)\n",
    "    print('Ficou com uma Média', media)\n",
    "    print ('C')  \n",
    "    print('Você foi Aprovado!')\n",
    "elif media >= 4.0 and media <=6.0:\n",
    "    print('Sua Primeira nota Foi', n1)\n",
    "    print('Sua Segunda nota Foi', n2)\n",
    "    print('Ficou com uma Média', media)\n",
    "    print ('D')\n",
    "    print('Você foi Reprovado!')\n",
    "     \n",
    "elif media >= 4.0 and media <=0:\n",
    "    print('Sua Primeira nota Foi', n1)\n",
    "    print('Sua Segunda nota Foi', n2)\n",
    "    print('Ficou com uma Média', media)\n",
    "    print ('E')\n",
    "    print('Você foi Reprovado!')\n"
   ]
  },
  {
   "cell_type": "markdown",
   "metadata": {},
   "source": [
    "8. Faça um Programa que peça os 3 lados de um triângulo.\n",
    "O programa deverá informar se os valores podem ser um triângulo. Indique, caso os lados formem um\n",
    "triângulo, se o mesmo é: equilátero, isósceles ou escaleno.\n",
    "Dicas:\n",
    "- Três lados formam um triângulo quando a soma de quaisquer dois lados for maior que o terceiro;\n",
    "- Triângulo Equilátero: três lados iguais;\n",
    "- Triângulo Isósceles: quaisquer dois lados iguais;\n",
    "- Triângulo Escaleno: três lados diferentes;"
   ]
  },
  {
   "cell_type": "code",
   "execution_count": 28,
   "metadata": {},
   "outputs": [
    {
     "name": "stdout",
     "output_type": "stream",
     "text": [
      "Lado 1: 8\n",
      "Lado 2: 9\n",
      "Lado 3: 4\n",
      "Triângulo Escaleno\n"
     ]
    }
   ],
   "source": [
    "ld1 = input(\"Lado 1: \")\n",
    "ld2 = input(\"Lado 2: \")\n",
    "ld3 = input(\"Lado 3: \")\n",
    "\n",
    "if ld1 + ld2 > ld3:\n",
    "    if ld1 == ld2 and ld1 == ld3:\n",
    "        print('È um triangulo Equilátero')\n",
    "    elif ld1 == ld2 or ld2 == ld3 or ld1 ==ld3:\n",
    "        print('È um triangulo Isóceles')\n",
    "    elif ld1 != ld2 and ld3 or ld2 != ld1 and ld3 or ld1 != ld3:\n",
    "        print ('Triângulo Escaleno')\n",
    "else:\n",
    "    print(\"Não e um triangulo\")\n",
    "\n"
   ]
  },
  {
   "cell_type": "markdown",
   "metadata": {},
   "source": [
    "9.Faça um programa que calcule as raízes de uma equação do segundo grau, na forma ax2 + bx + c. O programa deverá pedir os valores de a, b e c e fazer as consistências, informando ao usuário nas seguintes situações:\n",
    "- Se o usuário informar o valor de A igual a zero, a equação não é do segundo grau e o programa não deve fazer pedir os demais valores, sendo encerrado;\n",
    "- Se o delta calculado for negativo, a equação não possui raizes reais. Informe ao usuário e encerre o programa;\n",
    "- Se o delta calculado for igual a zero a equação possui apenas uma raiz real; informe-a ao usuário;\n",
    "- Se o delta for positivo, a equação possui duas raiz reais; informe-as ao usuário;"
   ]
  },
  {
   "cell_type": "code",
   "execution_count": 30,
   "metadata": {},
   "outputs": [
    {
     "name": "stdout",
     "output_type": "stream",
     "text": [
      "Valor de a: 3\n",
      "Valor b: 2\n",
      "Valor c: 1\n",
      "Não Possu Raizes, Tente Novamente\n"
     ]
    }
   ],
   "source": [
    "import math\n",
    "a = int( input('Valor de a: ') )\n",
    "if a==0:\n",
    "    print('A equação nao e de Segunro Grau, Tente novamente')\n",
    "else:\n",
    "    b = int( input('Valor b: ') )\n",
    "    c = int( input('Valor c: ') )\n",
    "    delta = b*b - (4*a*c)\n",
    "\n",
    "if delta<0:\n",
    "    print('Não Possu Raizes, Tente Novamente')\n",
    "elif delta==0:\n",
    "    raiz = -b / (2*a)\n",
    "    print('Sua Equação so Possui uma Raiz = ',raiz)\n",
    "else:\n",
    "    raiz_1 = (-b + math.sqrt(delta) ) / (2*a)\n",
    "    raiz_2 = (-b - math.sqrt(delta) ) / (2*a)\n",
    "    print('Raizes: ',raiz_1,' e ',raiz_2)"
   ]
  },
  {
   "cell_type": "markdown",
   "metadata": {},
   "source": [
    "10. Faça um Programa para um caixa eletrônico. O programa deverá perguntar ao\n",
    "usuário o valor do saque e depois informar quantas notas de cada valor serão\n",
    "fornecidas.\n",
    "As notas disponíveis serão as de 1, 5, 10, 50 e 100 reais. O valor mínimo é\n",
    "de 10 reais e o máximo de 600 reais. O programa não deve se preocupar com a\n",
    "quantidade de notas existentes na máquina.\n",
    "- Exemplo 1: Para sacar a quantia de 256 reais, o programa fornece duas notas de 100, uma nota de 50, uma nota de 5 e uma nota de 1;\n",
    "- Exemplo 2: Para sacar a quantia de 399 reais, o programa fornece três notas de 100, uma nota de 50, quatro notas de 10, uma nota de 5 e quatro notas de 1.\n"
   ]
  },
  {
   "cell_type": "code",
   "execution_count": 31,
   "metadata": {},
   "outputs": [
    {
     "name": "stdout",
     "output_type": "stream",
     "text": [
      "Quanto deseja sacar? 20\n",
      "- Valor do saque: R$ 20\n",
      "R$ 100:   0 notas\n",
      "R$  50:   0 notas\n",
      "R$  10:   2 notas\n",
      "R$   5:   0 notas\n",
      "R$   1:   0 notas\n",
      "\n"
     ]
    }
   ],
   "source": [
    "def metodo_1(valor):\n",
    "    valor_total = valor \n",
    "    \n",
    "    notas100 = valor // 100  \n",
    "    valor -= notas100 * 100  \n",
    "    \n",
    "    notas50 = valor // 50\n",
    "    valor -= notas50 * 50\n",
    "    \n",
    "    notas10 = valor // 10\n",
    "    valor -= notas10 * 10\n",
    "    \n",
    "    notas5 = valor // 5\n",
    "    valor -= notas5 * 5\n",
    "    \n",
    "    print_notas(valor_total, valor, notas5, notas10, notas50, notas100)\n",
    "       \n",
    "\n",
    "def print_notas(total, notas1, notas5, notas10, notas50, notas100):\n",
    "    template = \"R$ {:>3}: {:>3} notas\"\n",
    "    print(\"- Valor do saque: R$ \" + str(total))\n",
    "    print(template.format(\"100\", notas100))\n",
    "    print(template.format(\"50\", notas50))\n",
    "    print(template.format(\"10\", notas10))\n",
    "    print(template.format(\"5\", notas5))\n",
    "    print(template.format(\"1\", notas1))\n",
    "    print()\n",
    "    \n",
    "\n",
    "\n",
    "valor = int(input('Quanto deseja sacar? '))\n",
    "\n",
    "resposta1 = metodo_1(valor)\n",
    "\n"
   ]
  },
  {
   "cell_type": "markdown",
   "metadata": {},
   "source": [
    "11. Faça um programa que faça 5 perguntas para uma pessoa sobre um crime. As\n",
    "perguntas são:\n",
    "-\"Telefonou para a vítima?\"\n",
    "-\"Esteve no local do crime?\"\n",
    "-\"Mora perto da vítima?\"\n",
    "-\"Devia para a vítima?\"\n",
    "-\"Já trabalhou com a vítima?\"\n",
    "O programa deve no final emitir uma classificação sobre a participação da pessoa no\n",
    "crime. Se a pessoa responder positivamente a 2 questões ela deve ser classificada\n",
    "como \"Suspeita\", entre 3 e 4 como \"Cúmplice\" e 5 como \"Assassino\". Caso contrário,\n",
    "ele será classificado como \"Inocente\"."
   ]
  },
  {
   "cell_type": "code",
   "execution_count": 32,
   "metadata": {},
   "outputs": [
    {
     "name": "stdout",
     "output_type": "stream",
     "text": [
      "Telefonou para a vítima?sim\n",
      "Esteve no local do crime?nao\n",
      "Mora perto da vítima?sim\n",
      "Devia para a vítima?sim\n",
      "Já trabalhou com a vítima?sim\n",
      "Cúmplice\n"
     ]
    }
   ],
   "source": [
    "#objeto\n",
    "perguntas = [ \n",
    "    \"Telefonou para a vítima?\" ,\n",
    "    \"Esteve no local do crime?\" ,\n",
    "    \"Mora perto da vítima?\" ,\n",
    "    \"Devia para a vítima?\" ,\n",
    "    \"Já trabalhou com a vítima?\" \n",
    "]\n",
    "resposta = 0\n",
    "for qual in perguntas:\n",
    "  resposta += (input(qual) == \"sim\")\n",
    "  \n",
    "if resposta == 5:\n",
    "  print(\"Assassino\")\n",
    "elif resposta >=3:\n",
    "  print(\"Cúmplice\")\n",
    "elif resposta ==2:\n",
    "  print(\"Suspeito\")\n",
    "else:\n",
    "  print(\"Inocente\")\n",
    "  "
   ]
  },
  {
   "cell_type": "markdown",
   "metadata": {},
   "source": [
    "12. Uma fruteira está vendendo frutas com a seguinte tabela de preços:\n",
    "Se o cliente comprar mais de 8 Kg em frutas ou o valor total da compra ultrapassar\n",
    "R$ 25,00, receberá ainda um desconto de 10% sobre este total. \n",
    "Escreva um algoritmo para ler a quantidade (em Kg) de morangos e a quantidade (em Kg) de maças adquiridas e escreva o valor a ser pago pelo cliente.\n",
    "\n",
    "              Até 5 Kg      Acima de 5 Kg\n",
    "Morango R$ 2,50 por Kg      R$ 2,20 por Kg\n",
    "Maçã    R$ 1,80 por Kg      R$ 1,50 por Kg\n",
    "#REVISAR"
   ]
  },
  {
   "cell_type": "code",
   "execution_count": 15,
   "metadata": {},
   "outputs": [
    {
     "name": "stdout",
     "output_type": "stream",
     "text": [
      "informe a fruta desejada(Morango ou Maçã):maça\n",
      "Informe o peso que deseja:23\n",
      "Valor a pagar:R$31.05\n"
     ]
    }
   ],
   "source": [
    "def calcular_precos():\n",
    "  \n",
    "    count = 0\n",
    "    calculo_produto = 0\n",
    "  \n",
    "    dados_produto = [(\"morango\", 2.50, 2.20), (\"maça\", 1.80, 1.50)]\n",
    "    \n",
    "    while True:\n",
    "\n",
    "        finalizar = False\n",
    "      \n",
    "        produto = input(\"informe a fruta desejada(Morango ou Maçã):\")\n",
    "        \n",
    "        for x in range(2):\n",
    "            if produto.lower() == dados_produto[x][0]:\n",
    "                count = x\n",
    "                finalizar = True\n",
    "                break\n",
    "        \n",
    "            else:\n",
    "                if x == 1:\n",
    "                    finalizar = False\n",
    "                    print (\"produto invalido\", produto)\n",
    "    \n",
    "        if finalizar:\n",
    "            break\n",
    "\n",
    "    while True:\n",
    "        \n",
    "        try:\n",
    "        \n",
    "            peso = float(input(\"Informe o peso que deseja:\"))\n",
    "        \n",
    "            if peso > 0:\n",
    "                break\n",
    "          \n",
    "            else:\n",
    "                continue\n",
    "\n",
    "        except ValueError:\n",
    "            print (\"peso invalid\")\n",
    "            continue\n",
    "\n",
    "    if peso <= 5 and peso > 0:\n",
    "        calculo_produto = dados_produto[count][1] * peso\n",
    "        \n",
    "    elif peso > 5:\n",
    "        calculo_produto = dados_produto[count][2] * peso\n",
    "        if peso > 8 or calculo_produto > 25:\n",
    "            calculo_produto = (dados_produto[count][2] * peso) - ((dados_produto[count][2] * peso) * 10 / 100)\n",
    "            \n",
    "    print (\"Valor a pagar:R$%.2f\" % calculo_produto)\n",
    "\n",
    "calcular_precos()"
   ]
  },
  {
   "cell_type": "markdown",
   "metadata": {},
   "source": [
    "13. Faça um programa que peça uma nota, entre zero e dez. \n",
    "Mostre uma mensagemcaso o valor seja inválido e continue pedindo até que o usuário informe um valor válido."
   ]
  },
  {
   "cell_type": "code",
   "execution_count": 35,
   "metadata": {},
   "outputs": [
    {
     "name": "stdout",
     "output_type": "stream",
     "text": [
      "digite a nota de 0 a 10: 11\n",
      "Repeite a Regra.\n",
      "Digite a nota de 0 a 10: 12\n",
      "Repeite a Regra.\n",
      "Digite a nota de 0 a 10: 3\n"
     ]
    }
   ],
   "source": [
    "numero =int(input(\"digite a nota de 0 a 10: \"))\n",
    "while 0 > numero or 10 < numero:\n",
    "    numero = int (input(\"Repeite a Regra.\\nDigite a nota de 0 a 10: \"))\n"
   ]
  },
  {
   "cell_type": "markdown",
   "metadata": {},
   "source": [
    "13. Faça um programa que leia e valide as seguintes informações:\n",
    "Nome: maior que 3 caracteres;\n",
    "Idade: entre 0 e 150;\n",
    "Salário: maior que zero;\n",
    "Sexo: 'f' ou 'm';\n",
    "Estado Civil: 's', 'c', 'v', 'd';"
   ]
  },
  {
   "cell_type": "code",
   "execution_count": 36,
   "metadata": {},
   "outputs": [
    {
     "name": "stdout",
     "output_type": "stream",
     "text": [
      "Digite o seu nome: Alex\n",
      "Digite a sua idade: 23\n",
      "Digite o seu salário: 250\n",
      "Digite o seu sexo [f, m]: m\n",
      "Digite o seu estado cívil use somente[s, c, v, d]: s\n"
     ]
    }
   ],
   "source": [
    "nome = input(\"Digite o seu nome: \")\n",
    "while len(nome) <= 3:\n",
    "    nome = input(\"Digite um nome valido: \")\n",
    "idade = int(input(\"Digite a sua idade: \"))\n",
    "while idade < 0 or idade > 150:\n",
    "    idade = int(input(\"Digite uma idade valida: \"))\n",
    "salario = float(input(\"Digite o seu salário: \"))\n",
    "while salario <= 0:\n",
    "    salario = float(input(\"Digite um salario valido: \"))\n",
    "sexo = input(\"Digite o seu sexo [f, m]: \")\n",
    "while sexo != 'f' and sexo != 'm':\n",
    "    sexo = input(\"Digite o seu sexo[f ou m]: \")\n",
    "estado_civil = input(\"Digite o seu estado cívil use somente[s, c, v, d]: \")\n",
    "while estado_civil != 's' and estado_civil != 'c' and estado_civil != 'v' and estado_civil != 'd':\n",
    "    estado_civil = input(\"Digite o seu estado civil[s, c, v, d]: \")\n"
   ]
  },
  {
   "cell_type": "markdown",
   "metadata": {},
   "source": [
    "14. Faça um programa que leia 5 números e informe o maior número."
   ]
  },
  {
   "cell_type": "code",
   "execution_count": 37,
   "metadata": {},
   "outputs": [
    {
     "name": "stdout",
     "output_type": "stream",
     "text": [
      "Digite o número: 4\n",
      "Digite o número: 8\n",
      "Digite o número: 10\n",
      "Digite o número: 12\n",
      "Digite o número: 17\n",
      "Maior número da lista:  17\n"
     ]
    }
   ],
   "source": [
    "lista = []\n",
    "qtd = 5\n",
    "\n",
    "for n in range(0,int(qtd)): \n",
    "    lista.append(int(input('Digite o número: ')))\n",
    "\n",
    "print ('Maior número da lista: ', max(lista))\n",
    "\n",
    "\n",
    "\n",
    "\n",
    "#lista = []\n",
    "#while True:\n",
    " #   n = int(input('Digite o número (0 para encerrar): '))\n",
    "  #  if n == 0:\n",
    "   #     break\n",
    "    #    lista.append(n)\n",
    "\n",
    "#print ('O maior número da lista é: ', max(lista)) "
   ]
  },
  {
   "cell_type": "markdown",
   "metadata": {},
   "source": [
    "15. Faça um programa que leia 5 números e informe a soma e a média dos números.\n"
   ]
  },
  {
   "cell_type": "code",
   "execution_count": 38,
   "metadata": {},
   "outputs": [
    {
     "name": "stdout",
     "output_type": "stream",
     "text": [
      "digite o 1º numero: 3\n",
      "digite o 2º numero: 32\n",
      "digite o 3º numero: 12\n",
      "digite o 4º numero: 15\n",
      "digite o 5º numero: 21\n",
      "soma:  83.0\n",
      "média:  16.6\n"
     ]
    }
   ],
   "source": [
    "num1=float(input(\"digite o 1º numero: \"))\n",
    "num2=float(input(\"digite o 2º numero: \"))\n",
    "num3=float(input(\"digite o 3º numero: \"))\n",
    "num4=float(input(\"digite o 4º numero: \"))\n",
    "num5=float(input(\"digite o 5º numero: \"))\n",
    "soma=num1+num2+num3+num4+num5\n",
    "print(\"soma: \",soma,)\n",
    "print(\"média: \",soma/5)"
   ]
  },
  {
   "cell_type": "markdown",
   "metadata": {},
   "source": [
    "16. Faça um programa que imprima na tela apenas os números ímpares entre 1 e 50."
   ]
  },
  {
   "cell_type": "code",
   "execution_count": null,
   "metadata": {},
   "outputs": [],
   "source": [
    "for i in range(1,51,2):\n",
    "    print (i)"
   ]
  },
  {
   "cell_type": "markdown",
   "metadata": {},
   "source": [
    "17. Desenvolva um gerador de tabuada, capaz de gerar a tabuada de qualquer número inteiro entre 1 a 10. O usuário deve informar de qual numero ele deseja ver a tabuada. A saída deve ser conforme o exemplo abaixo:\n",
    "Tabuada de 5:\n",
    "5 X 1 = 5\n",
    "5 X 2 = 10\n",
    "...\n",
    "5 X 10 = 50\n"
   ]
  },
  {
   "cell_type": "code",
   "execution_count": 39,
   "metadata": {},
   "outputs": [
    {
     "name": "stdout",
     "output_type": "stream",
     "text": [
      "Digite um numero para saber a Tabua8\n",
      "8 X 1 = 8\n",
      "8 X 2 = 16\n",
      "8 X 3 = 24\n",
      "8 X 4 = 32\n",
      "8 X 5 = 40\n",
      "8 X 6 = 48\n",
      "8 X 7 = 56\n",
      "8 X 8 = 64\n",
      "8 X 9 = 72\n",
      "8 X 10 = 80\n"
     ]
    }
   ],
   "source": [
    "num = int(input(\"Digite um numero para saber a Tabua\"))\n",
    "print('{} X {} = {}'.format(num, 1, num*1))\n",
    "print('{} X {} = {}'.format(num, 2, num*2))\n",
    "print('{} X {} = {}'.format(num, 3, num*3))\n",
    "print('{} X {} = {}'.format(num, 4, num*4))\n",
    "print('{} X {} = {}'.format(num, 5, num*5))\n",
    "print('{} X {} = {}'.format(num, 6, num*6))\n",
    "print('{} X {} = {}'.format(num, 7, num*7))\n",
    "print('{} X {} = {}'.format(num, 8, num*8))\n",
    "print('{} X {} = {}'.format(num, 9, num*9))\n",
    "print('{} X {} = {}'.format(num, 10, num*10))"
   ]
  },
  {
   "cell_type": "markdown",
   "metadata": {},
   "source": [
    "18. A série de Fibonacci é formada pela seqüência 1,1,2,3,5,8,13,21,34,55,... Faça um\n",
    "programa capaz de gerar a série até o n−ésimo termo."
   ]
  },
  {
   "cell_type": "code",
   "execution_count": null,
   "metadata": {},
   "outputs": [],
   "source": [
    "n = int(input('quantos termos quer mostrar?: '))\n",
    "t1=0\n",
    "t2=1\n",
    "print('{}, {}'.format(t1, t2),end='')\n",
    "cont = 3\n",
    "while cont <= n:\n",
    "    t3 = t1 + t2\n",
    "    print(', {}'.format(t3),end='')\n",
    "    t1 = t2\n",
    "    t2 = t3\n",
    "    cont +=1\n",
    "print('\\nAcabou')\n",
    "\n",
    "\n"
   ]
  },
  {
   "cell_type": "markdown",
   "metadata": {},
   "source": [
    "19. Faça um programa que calcule o fatorial de um número inteiro fornecido pelo\n",
    "usuário. Ex.: 5!=5.4.3.2.1=120\n"
   ]
  },
  {
   "cell_type": "code",
   "execution_count": 40,
   "metadata": {},
   "outputs": [
    {
     "name": "stdout",
     "output_type": "stream",
     "text": [
      "Digite um numero: 7\n",
      "Fat 7! = 7  X6  X5  X4  X3  X2  X1 =5040\n"
     ]
    }
   ],
   "source": [
    "n = int(input('Digite um numero: '))\n",
    "c = n\n",
    "f = 1\n",
    "print('Fat {}! = '.format(n),end='')\n",
    "while c > 0:\n",
    "    print('{} '.format(c), end='')\n",
    "    print(' X' if c > 1 else '=', end='')\n",
    "    f = f * c\n",
    "    c -= 1\n",
    "print('{}'.format(f))"
   ]
  },
  {
   "cell_type": "markdown",
   "metadata": {},
   "source": [
    "20. O Sr. Manoel Joaquim possui uma grande loja de artigos de R$ 1,99, com cerca de 10 caixas. \n",
    "Para agilizar o cálculo de quanto cada cliente deve pagar ele desenvolveu um tabela que contém o número de itens que o cliente comprou e ao lado o valor da conta. \n",
    "Desta forma a atendente do caixa precisa apenas contar\n",
    "quantos itens o cliente está levando e olhar na tabela de preços. \n",
    "Você foi contratado para desenvolver o programa que monta esta tabela de preços, que conterá os\n",
    "preços de 1 até 50 produtos, conforme o exemplo abaixo:\n",
    "\n",
    "Lojas Quase Dois - Tabela de preços\n",
    "1 - R$ 1.99\n",
    "2 - R$ 3.98\n",
    "...\n",
    "50 - R$ 99.50\n",
    "\n"
   ]
  },
  {
   "cell_type": "code",
   "execution_count": null,
   "metadata": {},
   "outputs": [],
   "source": [
    "x = 1\n",
    "valor = 1.99\n",
    "\n",
    "print(\"Tabela preços\")\n",
    "\n",
    "while x <= 50:\n",
    "    print(\"%02.d - R$ %.2f\"%(x,x*valor))\n",
    "    x += 1"
   ]
  },
  {
   "cell_type": "markdown",
   "metadata": {},
   "source": [
    "21. O Sr. Manoel Joaquim acaba de adquirir uma panificadora e pretende implantar\n",
    "a metodologia da tabelinha, que já é um sucesso na sua loja de 1,99. Você foi\n",
    "contratado para desenvolver o programa que monta a tabela de preços de pães, de\n",
    "1 até 50 pães, a partir do preço do pão informado pelo usuário, conforme o exemplo\n",
    "abaixo:\n",
    "\n",
    "Preço do pão: R$ 0.18\n",
    "Panificadora Pão de Ontem - Tabela de preços\n",
    "1 - R$ 0.18\n",
    "2 - R$ 0.36\n",
    "...\n",
    "50 - R$ 9.00\n"
   ]
  },
  {
   "cell_type": "code",
   "execution_count": null,
   "metadata": {},
   "outputs": [],
   "source": [
    "paes = 50\n",
    "while paes > 50:\n",
    "    pass\n",
    "count = 1\n",
    "preco_pao = float(input(\"Qual é o preço do pão? : \"))\n",
    "\n",
    "for j in range(paes):\n",
    "    print(count, \"= R$\", round(preco_pao * count, 2))\n",
    "    count += 1"
   ]
  },
  {
   "cell_type": "markdown",
   "metadata": {},
   "source": [
    "22. O Sr. Manoel Joaquim expandiu seus negócios para além dos negócios de 1,99 e\n",
    "agora possui uma loja de conveniências. Faça um programa que implemente uma\n",
    "caixa registradora rudimentar. O programa deverá receber um número\n",
    "desconhecido de valores referentes aos preços das mercadorias. Um valor zero deve\n",
    "ser informado pelo operador para indicar o final da compra. O programa deve então\n",
    "mostrar o total da compra e perguntar o valor em dinheiro que o cliente forneceu,\n",
    "para então calcular e mostrar o valor do troco. Após esta operação, o programa\n",
    "deverá voltar ao ponto inicial, para registrar a próxima compra. A saída deve ser\n",
    "conforme o exemplo abaixo:\n",
    "Lojas Tabajara\n",
    "Produto 1: R$ 2.20\n",
    "Produto 2: R$ 5.80\n",
    "Produto 3: R$ 0\n",
    "Total: R$ 9.00\n",
    "Dinheiro: R$ 20.00\n",
    "Troco: R$ 11.00"
   ]
  },
  {
   "cell_type": "code",
   "execution_count": 43,
   "metadata": {},
   "outputs": [
    {
     "name": "stdout",
     "output_type": "stream",
     "text": [
      "Produto 1: R$ 17\n",
      "Produto 2: R$ 21\n",
      "Produto 3: R$ 22\n",
      "Produto 4: R$ 0\n",
      "Total: R$ 60.00 \n",
      "Dinheiro: R$ 90\n",
      "Troco: R$ 30.00\n",
      "pressione 0 para reset, 1 para encerrar: 1\n",
      "\n",
      "\n",
      "\n",
      "\n",
      "\n",
      "\n",
      "\n",
      "\n",
      "\n",
      "\n",
      "\n",
      "\n",
      "\n",
      "\n",
      "\n",
      "\n",
      "\n",
      "\n",
      "\n",
      "\n",
      "\n",
      "\n",
      "\n",
      "\n",
      "\n",
      "\n",
      "\n",
      "\n",
      "\n",
      "\n",
      "\n",
      "\n",
      "\n",
      "\n",
      "\n",
      "\n",
      "\n",
      "\n",
      "\n",
      "\n",
      "\n",
      "Proximo\n"
     ]
    }
   ],
   "source": [
    "def clear():\n",
    "    print(\"\\n\" * 40)\n",
    "\n",
    "\n",
    "while True:\n",
    "    n = 1\n",
    "    total = 0\n",
    "\n",
    "    while True:\n",
    "        preco = float(input(\"Produto {}: R$ \".format(n)))\n",
    "        n += 1\n",
    "        total += preco\n",
    "        if preco == 0:\n",
    "            break\n",
    "\n",
    "\n",
    "    print(\"Total: R$ {:.2f} \".format(total))\n",
    "    dinheiro = float(input(\"Dinheiro: R$ \"))\n",
    "    print(\"Troco: R$ {:.2f}\".format(dinheiro - total))\n",
    "\n",
    "\n",
    "    reset = input(\"pressione 0 para reset, 1 para encerrar: \")\n",
    "    if reset == \"0\":\n",
    "        clear()\n",
    "        continue\n",
    "    else:\n",
    "        clear()\n",
    "        print(\"Proximo\")\n",
    "        break"
   ]
  },
  {
   "cell_type": "markdown",
   "metadata": {},
   "source": [
    "23. Foi feita uma estatística em cinco cidades brasileiras para coletar dados sobre\n",
    "acidentes de trânsito. Foram obtidos os seguintes dados:\n",
    "- Código da cidade;\n",
    "- Número de veículos de passeio (em 1999);\n",
    "- Número de acidentes de trânsito com vítimas (em 1999). Deseja-se saber:\n",
    "- Qual o maior e menor índice de acidentes de transito e a que cidade pertence;\n",
    "- Qual a média de veículos nas cinco cidades juntas;\n",
    "- Qual a média de acidentes de trânsito nas cidades com menos de 2.000 veículos de\n",
    "passeio"
   ]
  },
  {
   "cell_type": "code",
   "execution_count": 49,
   "metadata": {},
   "outputs": [
    {
     "name": "stdout",
     "output_type": "stream",
     "text": [
      "\n",
      "Cidade número  1\n",
      "Digite o código da cidade: 1\n",
      "Digite o número de acidentes: 2\n",
      "Digite o número de veiculos: 3\n",
      "\n",
      "Cidade número  2\n",
      "Digite o código da cidade: 4\n",
      "Digite o número de acidentes: 5\n",
      "Digite o número de veiculos: 6\n",
      "\n",
      "Cidade número  3\n",
      "Digite o código da cidade: 7\n",
      "Digite o número de acidentes: 8\n",
      "Digite o número de veiculos: 9\n",
      "\n",
      "Cidade número  4\n",
      "Digite o código da cidade: 2\n",
      "Digite o número de acidentes: 3\n",
      "Digite o número de veiculos: 4\n",
      "\n",
      "Cidade número  5\n",
      "Digite o código da cidade: 5\n",
      "Digite o número de acidentes: 6\n",
      "Digite o número de veiculos: 7\n",
      "\n",
      "Menos acidentes\n",
      "Quantidade de acidentes:  2 \n",
      "Código da cidade:  1\n",
      "\n",
      "Mais acidentes\n",
      "Quantidade de acidentes:  8 \n",
      "Código da cidade:  7\n",
      "\n",
      "Média de veiculos nas 5 cidades:  5.8\n"
     ]
    },
    {
     "ename": "ZeroDivisionError",
     "evalue": "division by zero",
     "output_type": "error",
     "traceback": [
      "\u001b[0;31m---------------------------------------------------------------------------\u001b[0m",
      "\u001b[0;31mZeroDivisionError\u001b[0m                         Traceback (most recent call last)",
      "\u001b[0;32m<ipython-input-49-b08ac6f70e80>\u001b[0m in \u001b[0;36m<module>\u001b[0;34m\u001b[0m\n\u001b[1;32m     32\u001b[0m \u001b[0mprint\u001b[0m\u001b[0;34m(\u001b[0m\u001b[0;34m\"\\nMédia de veiculos nas 5 cidades: \"\u001b[0m\u001b[0;34m,\u001b[0m \u001b[0mmedia_veiculos\u001b[0m\u001b[0;34m)\u001b[0m\u001b[0;34m\u001b[0m\u001b[0;34m\u001b[0m\u001b[0m\n\u001b[1;32m     33\u001b[0m \u001b[0;34m\u001b[0m\u001b[0m\n\u001b[0;32m---> 34\u001b[0;31m \u001b[0mmedia_acidentes_2000\u001b[0m \u001b[0;34m=\u001b[0m \u001b[0msum\u001b[0m\u001b[0;34m(\u001b[0m\u001b[0macidentes_2000\u001b[0m\u001b[0;34m)\u001b[0m \u001b[0;34m/\u001b[0m \u001b[0mlen\u001b[0m\u001b[0;34m(\u001b[0m\u001b[0macidentes_2000\u001b[0m\u001b[0;34m)\u001b[0m\u001b[0;34m\u001b[0m\u001b[0;34m\u001b[0m\u001b[0m\n\u001b[0m\u001b[1;32m     35\u001b[0m \u001b[0mprint\u001b[0m\u001b[0;34m(\u001b[0m\u001b[0;34m\"\\nMédia de acidentes nas cidades com menos de 2000 veículos: \"\u001b[0m\u001b[0;34m,\u001b[0m \u001b[0mmedia_acidentes_2000\u001b[0m\u001b[0;34m)\u001b[0m\u001b[0;34m\u001b[0m\u001b[0;34m\u001b[0m\u001b[0m\n",
      "\u001b[0;31mZeroDivisionError\u001b[0m: division by zero"
     ]
    }
   ],
   "source": [
    "cod_cidades = []\n",
    "n_veiculos = []\n",
    "n_acidentes = []\n",
    "acidentes_2000 = []\n",
    "\n",
    "for i in range(5):\n",
    "    print(\"\\nCidade número \", i + 1)\n",
    "    codigo_cidade = int(input(\"Digite o código da cidade: \"))\n",
    "    while codigo_cidade in cod_cidades:\n",
    "        print(\"[Código já digitado]\")\n",
    "        codigo_cidade = int(input(\"Digite outro código: \"))\n",
    "\n",
    "    numero_acidentes = int(input(\"Digite o número de acidentes: \"))\n",
    "    numero_veiculos = int(input(\"Digite o número de veiculos: \"))\n",
    "\n",
    "    if numero_veiculos > 2000:\n",
    "        acidentes_2000.append(numero_acidentes)\n",
    "        n_acidentes.append(numero_acidentes)\n",
    "    else:\n",
    "        n_acidentes.append(numero_acidentes)\n",
    "\n",
    "    n_veiculos.append(numero_veiculos)\n",
    "    cod_cidades.append(codigo_cidade)\n",
    "\n",
    "indice_acidentes_menor = n_acidentes.index(min(n_acidentes))\n",
    "indice_acidentes_maior = n_acidentes.index(max(n_acidentes))\n",
    "\n",
    "print(\"\\nMenos acidentes\\nQuantidade de acidentes: \", min(n_acidentes), \"\\nCódigo da cidade: \", cod_cidades[indice_acidentes_menor])\n",
    "print(\"\\nMais acidentes\\nQuantidade de acidentes: \", max(n_acidentes), \"\\nCódigo da cidade: \", cod_cidades[indice_acidentes_maior])\n",
    "\n",
    "media_veiculos = sum(n_veiculos) / len(n_veiculos)\n",
    "print(\"\\nMédia de veiculos nas 5 cidades: \", media_veiculos)\n",
    "\n",
    "media_acidentes_2000 = sum(acidentes_2000) / len(acidentes_2000)\n",
    "print(\"\\nMédia de acidentes nas cidades com menos de 2000 veículos: \", media_acidentes_2000)"
   ]
  },
  {
   "cell_type": "markdown",
   "metadata": {},
   "source": [
    "24. Faça um programa que receba o valor de uma dívida e mostre uma tabela com os\n",
    "seguintes dados: valor da dívida, valor dos juros, quantidade de parcelas e valor da\n",
    "parcela.\n",
    "Os juros e a quantidade de parcelas seguem a tabela abaixo:\n",
    "Quantidade de Parcelas % de Juros sobre o valor inicial da dívida:\n",
    "1  0\n",
    "3  10\n",
    "6  15\n",
    "9  20\n",
    "12 25\n",
    "\n",
    "Exemplo de saída do programa:\n",
    "Valor da Dívida Valor dos Juros Quantidade de Parcelas Valor da Parcela\n",
    "R$ 1.000,00 0 1 R$ 1.000,00\n",
    "R$ 1.100,00 100 3 R$ 366,00\n",
    "R$ 1.150,00 150 6 R$ 191,67"
   ]
  },
  {
   "cell_type": "code",
   "execution_count": 47,
   "metadata": {},
   "outputs": [
    {
     "name": "stdout",
     "output_type": "stream",
     "text": [
      "\n",
      "\n",
      "\n",
      "\n",
      "\n",
      "\n",
      "Digite o valor da divida: 2\n",
      "\n",
      "\n",
      "\n",
      "\n",
      "\n",
      "\n",
      "Valor da divida:   Valor do juros:   Quantidade de parcelas:   Valor da parcela: \n",
      "R$ 2.0            0.0                  1                        R$  2.0\n",
      "R$ 2.2            0.2                  3                        R$  0.73\n",
      "R$ 2.3            0.3                  6                        R$  0.38\n",
      "R$ 2.4            0.4                  9                        R$  0.27\n",
      "R$ 2.5            0.5                  12                        R$  0.21\n"
     ]
    }
   ],
   "source": [
    "print(\"\\n\" * 5)\n",
    "divida = float(input(\"Digite o valor da divida: \"))\n",
    "parcela = 1\n",
    "print(\"\\n\" * 5)\n",
    "print(\"Valor da divida: \", end=\"  \")\n",
    "print(\"Valor do juros: \", end=\"  \")\n",
    "print(\"Quantidade de parcelas: \", end=\"  \")\n",
    "print(\"Valor da parcela: \")\n",
    "\n",
    "for i in range(5):\n",
    "    if parcela == 1:\n",
    "        juros = 1\n",
    "        valor_juros = 0\n",
    "    elif parcela == 4:\n",
    "        parcela = 3\n",
    "        juros = 1.10\n",
    "    elif parcela == 7 or parcela == 6:\n",
    "        parcela = 6\n",
    "        juros = 1.15\n",
    "    elif parcela == 10 or parcela == 9:\n",
    "        parcela = 9\n",
    "        juros = 1.20\n",
    "    elif parcela == 13 or parcela == 12:\n",
    "        parcela = 12\n",
    "        juros = 1.25\n",
    "\n",
    "    valor_juros = divida * (juros - 1)\n",
    "    divida_com_juros = divida * juros\n",
    "    valor_parcela = divida_com_juros / parcela\n",
    "\n",
    "    print(\"R$\", round(divida_com_juros, 2), end=\"            \")\n",
    "    print(round(valor_juros, 2), end=\"                  \")\n",
    "    print(parcela, end=\"                        \")\n",
    "    print(\"R$ \", round(valor_parcela, 2))\n",
    "    parcela += 3"
   ]
  },
  {
   "cell_type": "markdown",
   "metadata": {},
   "source": [
    "25. Faça um programa que mostre os n termos da Série a seguir:\n",
    " S = 1/1 + 2/3 + 3/5 + 4/7 + 5/9 + ... + n/m.\n",
    "Imprima no final a soma da série.\n"
   ]
  },
  {
   "cell_type": "code",
   "execution_count": 48,
   "metadata": {},
   "outputs": [
    {
     "name": "stdout",
     "output_type": "stream",
     "text": [
      "S = 1 / 1  + 2 / 3  + 3 / 5  + 4 / 7  + 5 / 9  + 6 / 11  + 7 / 13  + 8 / 15  + 9 / 17  + 10 / 19  =  45 / 81\n"
     ]
    }
   ],
   "source": [
    "n1 = 1\n",
    "n2 = 1\n",
    "n1_lista = []\n",
    "n2_lista = []\n",
    "print(\"S = \", end = \"\")\n",
    "while n1 <= 10 -1:\n",
    "    print(n1, \"/\", n2, \" + \", end=\"\")\n",
    "    n1_lista.append(n1)\n",
    "    n2_lista.append(n2)\n",
    "    n1 += 1\n",
    "    n2 += 2\n",
    "\n",
    "print(n1, \"/\", n2, \" = \", sum(n1_lista), \"/\", sum(n2_lista))"
   ]
  },
  {
   "cell_type": "code",
   "execution_count": null,
   "metadata": {},
   "outputs": [],
   "source": []
  }
 ],
 "metadata": {
  "kernelspec": {
   "display_name": "Python 3",
   "language": "python",
   "name": "python3"
  },
  "language_info": {
   "codemirror_mode": {
    "name": "ipython",
    "version": 3
   },
   "file_extension": ".py",
   "mimetype": "text/x-python",
   "name": "python",
   "nbconvert_exporter": "python",
   "pygments_lexer": "ipython3",
   "version": "3.7.1"
  }
 },
 "nbformat": 4,
 "nbformat_minor": 2
}
